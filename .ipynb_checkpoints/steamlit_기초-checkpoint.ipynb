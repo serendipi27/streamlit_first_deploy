{
 "cells": [
  {
   "cell_type": "markdown",
   "id": "87086e6d-9c33-40e4-a184-b6713813d6cb",
   "metadata": {},
   "source": [
    "# Streamlit 소개 및 설치"
   ]
  },
  {
   "cell_type": "markdown",
   "id": "14556350-78b8-47bb-8381-61cd4ad4982e",
   "metadata": {},
   "source": [
    "## Streamlit 소개\n",
    " - Streamlit이란 Python을 사용하여 데이터 사이언스 및 머신러닝 프로젝트를 위한 웹 앱을 빠르게 구축할 수 있는 라이브러리\n",
    " - 간단한 스크립트로 복잡한 웹 앱을 구현할 수 있음.\n",
    " - 데이터 시각화와 대화형 컴포넌트를 쉽게 통합할 수 있음.\n",
    "## Streamlit 설치\n",
    "### Local 환경인 경우\n",
    " - 설치\n",
    "     - ```bash\n",
    "       pip install streamlit\n",
    "       ```\n",
    " - 버전 확인\n",
    "     - ```bash\n",
    "       streamlit --version\n",
    "       ```\n",
    "### \bColab 환경인 경우\n",
    " - 설치\n",
    "     - ```bash\n",
    "       pip install streamlit\n",
    "       npm install localtunnel\n",
    "       pip install \"ipywidgets>=7, <8\"\n",
    "       ```\n",
    " - 버전 확인\n",
    "     - ```bash\n",
    "       streamlit --version\n",
    "       ```"
   ]
  },
  {
   "cell_type": "markdown",
   "id": "0452038a-11ba-4aeb-a745-bfbb323ae302",
   "metadata": {},
   "source": [
    "# Streamlit 맛보기\n",
    "## local 환경인 경우\n",
    " - 'app.py' 파일을 만들고, 다음 코드를 작성하자.\n",
    "     - ```python\n",
    "       import streamlit as st\n",
    "\n",
    "       st.title('Hello, Streamlit!!')\n",
    "       st.write('This is my first streamlit app. Congratulations!!')\n",
    "       st.button('Click me!!')\n",
    "       ```\n",
    " - 작성한 스크립트를 터미널에서 streamlit으로 실행함.\n",
    "     - ``` bash\n",
    "       steamlit run app.py\n",
    "       ```"
   ]
  },
  {
   "cell_type": "markdown",
   "id": "a13dffae-466e-4eaf-958f-e1c9e49b152d",
   "metadata": {},
   "source": [
    "## 예시1"
   ]
  },
  {
   "cell_type": "code",
   "execution_count": 4,
   "id": "76d1ccab-539b-42fd-9537-87cf89babfd9",
   "metadata": {},
   "outputs": [
    {
     "name": "stdout",
     "output_type": "stream",
     "text": [
      "Overwriting app.py\n"
     ]
    }
   ],
   "source": [
    "%%writefile app.py\n",
    "\n",
    "import streamlit as st\n",
    "\n",
    "st.title('Hello, Streamlit!!')\n",
    "st.write('This is my first streamlit app. Congratulations!!')\n",
    "st.button('Click me!!')"
   ]
  },
  {
   "cell_type": "code",
   "execution_count": 3,
   "id": "c3c004a8-adcd-4c83-8f1b-6ff800bf54e0",
   "metadata": {},
   "outputs": [],
   "source": [
    "# 터미널에서 아래 명령어 실행하기\n",
    "# streamlit run app.py"
   ]
  },
  {
   "cell_type": "markdown",
   "id": "f60bb69c-0556-4d6b-852a-2d24f1a149c6",
   "metadata": {},
   "source": [
    "## 예시2(출력)\n",
    " - 제목에는 \"Welcome to Streamlit!\" 사용\n",
    " - 부제목에는 \"Exploring the basics\" 사용\n",
    " - 목록으로 Python의 주요 라이브러리 세 가지를 나열하세요. (예: NumPy, Pandas, Matplotlib)"
   ]
  },
  {
   "cell_type": "code",
   "execution_count": 5,
   "id": "dfec1b09-304d-4d39-be29-6b7e4a77c106",
   "metadata": {},
   "outputs": [
    {
     "name": "stdout",
     "output_type": "stream",
     "text": [
      "Overwriting app.py\n"
     ]
    }
   ],
   "source": [
    "%%writefile app.py\n",
    "\n",
    "import streamlit as st\n",
    "st.title(\"Welcome to Streamlit!\")\n",
    "st.header(\"Exploring the basics\")\n",
    "st.write(\"The most important libraries at Python\")\n",
    "st.write('- Numpy')\n",
    "st.write('- Pandas')\n",
    "st.write('- Matplotlib')"
   ]
  },
  {
   "cell_type": "markdown",
   "id": "e10ba2a8-45f0-4e13-a8d4-202900e2af1f",
   "metadata": {},
   "source": [
    "## 예시3(입력)\n",
    " - 슬라이더를 사용하여 사용자가 선택할 수 있는 연도 범위를 2000년에서 2020년까지 설정하세요.\n",
    " - 선택 상자를 사용하여 세 가지 취미(예: 읽기, 여행, 요리) 중 하나를 선택할 수 있게 만드세요."
   ]
  },
  {
   "cell_type": "code",
   "execution_count": 9,
   "id": "23a80c2f-0dc0-49ad-8bfa-272fe464ed5e",
   "metadata": {},
   "outputs": [
    {
     "name": "stdout",
     "output_type": "stream",
     "text": [
      "Overwriting app.py\n"
     ]
    }
   ],
   "source": [
    "%%writefile app.py\n",
    "\n",
    "import streamlit as st\n",
    "\n",
    "year = st.slider('연도를 선택하세요', 2000, 2020)\n",
    "hobby = st.selectbox('다음 중 취미를 선택하세요', ('읽기', '여행', '요리'))\n",
    "st.write(f'당신은 연도는 {year}와 취미는 {hobby}를 선택하셨습니다.')"
   ]
  },
  {
   "cell_type": "markdown",
   "id": "827f211e-5436-4729-b73b-c73fbeb766aa",
   "metadata": {},
   "source": [
    "## 예시4(인터렉션)\n",
    "- \"Show Message\" 버튼을 만드세요.\n",
    "- 버튼을 클릭하면, \"Welcome to our Streamlit app!\"이라는 메시지를 화면에 표시하세요."
   ]
  },
  {
   "cell_type": "code",
   "execution_count": 11,
   "id": "ab6079f8-1366-4363-b9a7-642b11bedbb8",
   "metadata": {},
   "outputs": [
    {
     "name": "stdout",
     "output_type": "stream",
     "text": [
      "Overwriting app.py\n"
     ]
    }
   ],
   "source": [
    "%%writefile app.py\n",
    "\n",
    "import streamlit as st\n",
    "\n",
    "btn = st.button('Show Message')\n",
    "if btn:\n",
    "    st.write(\"Welcome to our Streamlit app!!\")"
   ]
  },
  {
   "cell_type": "markdown",
   "id": "b194a076-b468-4778-b8a1-ad12d3c68d55",
   "metadata": {},
   "source": [
    "# Streamlit의 기본 컴포넌트\n",
    " - [Reference: Streamlit Text Elenments](https://docs.streamlit.io/develop/api-reference/text)"
   ]
  },
  {
   "cell_type": "markdown",
   "id": "3e77a47c-d8ca-41c5-99fa-d346444d104b",
   "metadata": {},
   "source": [
    "## 기본 출력 \n",
    " - 텍스트, 숫자, 날짜 등 다양한 형태의 데이터를 웹 앱에 출력하는 방법"
   ]
  },
  {
   "cell_type": "code",
   "execution_count": 12,
   "id": "8b9535e1-5039-4319-8b22-be4d1c53f541",
   "metadata": {},
   "outputs": [
    {
     "name": "stdout",
     "output_type": "stream",
     "text": [
      "Overwriting app.py\n"
     ]
    }
   ],
   "source": [
    "%%writefile app.py\n",
    "\n",
    "import streamlit as st\n",
    "\n",
    "# 기본 출력\n",
    "st.write('This is a basic write command.')\n",
    "st.markdown('## This is a markdown')\n",
    "st.latex(r''' e^{i\\pi} + 1 = 0 ''')\n",
    "\n",
    "# 데이터 표시\n",
    "st.write({'Name': 'Alice', 'Age': 25})"
   ]
  },
  {
   "cell_type": "markdown",
   "id": "bc01305f-05d8-4936-8f21-8baf3da5f405",
   "metadata": {},
   "source": [
    "## 사용자 입력 받기\n",
    " - 사용자로부터 데이터를 입력받아 앱의 동작을 제어하는 방법"
   ]
  },
  {
   "cell_type": "code",
   "execution_count": 14,
   "id": "0556ac2f-d880-45d9-9ddb-ba13ce3d0c37",
   "metadata": {},
   "outputs": [
    {
     "name": "stdout",
     "output_type": "stream",
     "text": [
      "Overwriting app.py\n"
     ]
    }
   ],
   "source": [
    "%%writefile app.py\n",
    "\n",
    "import streamlit as st\n",
    "\n",
    "# 입력 위젯\n",
    "age = st.slider('Choose your age', 18, 65)\n",
    "job = st.selectbox('Job role', ['Developer', 'Manager', 'Student'])\n",
    "agree = st.checkbox('I agree')\n",
    "\n",
    "# 조건부 출력\n",
    "if agree:\n",
    "    st.write(f'You are {age} years old and work as a {job}.')\n"
   ]
  },
  {
   "cell_type": "markdown",
   "id": "b774a2a8-bc33-4bd4-a0c4-c0e1dd3332db",
   "metadata": {},
   "source": [
    "## 조건부 로직으로 인터렉티브 기능 구현\n",
    " - 입력 컴포넌트와 조건문을 사용하여 사용자의 선택에 따라 다른 출력을 제공"
   ]
  },
  {
   "cell_type": "code",
   "execution_count": 15,
   "id": "8f759254-c66e-431e-91f9-5dd44741c9bf",
   "metadata": {},
   "outputs": [
    {
     "name": "stdout",
     "output_type": "stream",
     "text": [
      "Overwriting app.py\n"
     ]
    }
   ],
   "source": [
    "%%writefile app.py\n",
    "\n",
    "import streamlit as st\n",
    "\n",
    "hobby = st.radio('Select your hobby:', ['Reading', 'Gaming', 'Hiking'])\n",
    "\n",
    "if hobby == 'Reading':\n",
    "    st.write('You selected reading.')\n",
    "elif hobby == 'Gaming':\n",
    "    st.write('You selected gaming.')\n",
    "else:\n",
    "    st.write('You selected hiking.')\n"
   ]
  },
  {
   "cell_type": "markdown",
   "id": "9479e88b-067d-4f0c-8c9f-c8958c71470f",
   "metadata": {},
   "source": [
    "## 사이드바 사용하기\n",
    " - 앱의 구조를 개선하기 위해 사이드바를 사용함."
   ]
  },
  {
   "cell_type": "code",
   "execution_count": 17,
   "id": "cdf4c3d4-87d2-40a5-9bd5-b7d4ec84748d",
   "metadata": {},
   "outputs": [
    {
     "name": "stdout",
     "output_type": "stream",
     "text": [
      "Overwriting app.py\n"
     ]
    }
   ],
   "source": [
    "%%writefile app.py\n",
    "\n",
    "import streamlit as st\n",
    "\n",
    "# 사이드바\n",
    "with st.sidebar:\n",
    "    st.write('This is a sidebar')\n",
    "    navigation = st.radio('Go to', ['Home', 'Settings', 'About'])\n",
    "    if navigation == 'Settings':\n",
    "        st.write('Settings page')\n",
    "    elif navigation == 'Home':\n",
    "        st.write('Home page')\n",
    "    else:\n",
    "        st.write('About page')\n"
   ]
  },
  {
   "cell_type": "markdown",
   "id": "dfc197bd-858e-401c-90f3-ecb49b43d748",
   "metadata": {},
   "source": [
    "## 연습문제\n",
    " - 문제1) Markdown을 사용하여 페이지에 제목, 하이퍼링크, 강조된 텍스트를 추가하세요.\n",
    " - 문제2) 사용자의 이름, 선호하는 프로그래밍 언어(선택 목록 제공), 프로그래밍 경력(년)을 입력 받는 양식을 만드세요.\n",
    " - 문제3) 사용자가 선택한 요일에 따라 다른 활동을 추천하는 기능을 만드세요.\n",
    " - 문제4) 사이드바를 사용하여 사용자가 대시보드의 주요 색상과 데이터 갱신 빈도를 설정할 수 있게 만드세요.\n",
    " - 문제5) 사이드바를 활용하여 앱의 다른 페이지로 이동할 수 있는 내비게이션 바를 만드세요."
   ]
  },
  {
   "cell_type": "markdown",
   "id": "95db188b-d0ae-4470-8016-859afedba4d5",
   "metadata": {},
   "source": [
    "## 가이드 코드\n",
    "\n",
    "### 문제1)\n",
    "```python\n",
    "import streamlit as st\n",
    "\n",
    "st.markdown(\"# Main Title\")\n",
    "st.markdown(\"Visit [Streamlit's Website](https://streamlit.io/)\")\n",
    "st.markdown(\"**Bold** text and *italic* text.\")\n",
    "```"
   ]
  },
  {
   "cell_type": "markdown",
   "id": "0d9828b3-5a11-4d46-96e6-d9424f4f76e7",
   "metadata": {},
   "source": [
    "### 문제2)\n",
    "```python\n",
    "import streamlit as st\n",
    "\n",
    "name = st.text_input('Name')\n",
    "language = st.selectbox('Favorite programming language', ['Python', 'Java', 'C++', 'JavaScript'])\n",
    "experience = st.slider('Years of programming experience', 0, 50, 1)\n",
    "if st.button('Submit'):\n",
    "    st.write(f'Hello {name}, you prefer {language} and have {experience} years of experience.')\n",
    "```"
   ]
  },
  {
   "cell_type": "markdown",
   "id": "0e52c2cb-226d-4e02-9248-f05554032a72",
   "metadata": {
    "jp-MarkdownHeadingCollapsed": true
   },
   "source": [
    "### 문제3)\n",
    "```python\n",
    "import streamlit as st\n",
    "\n",
    "day = st.selectbox('Choose a day', ['Monday', 'Tuesday', 'Wednesday', 'Thursday', 'Friday'])\n",
    "if day == 'Monday':\n",
    "    st.write('Time to boost your week!')\n",
    "elif day == 'Friday':\n",
    "    st.write('Ready for the weekend?')\n",
    "else:\n",
    "    st.write('A productive day!')\n",
    "\n",
    "```"
   ]
  },
  {
   "cell_type": "markdown",
   "id": "a14f1610-31d9-482b-903c-a1bbe87ee77d",
   "metadata": {
    "jp-MarkdownHeadingCollapsed": true
   },
   "source": [
    "### 문제4)\n",
    "```python\n",
    "import streamlit as st\n",
    "\n",
    "with st.sidebar:\n",
    "    st.header('Dashboard Settings')\n",
    "    color = st.color_picker('Choose a color')\n",
    "    refresh_rate = st.selectbox('Data refresh rate', ['1 min', '5 mins', '15 mins'])\n",
    "    st.write('Settings updated!')\n",
    "\n",
    "```"
   ]
  },
  {
   "cell_type": "markdown",
   "id": "bd94de9a-a3b5-4021-93d5-af7d6fc2f184",
   "metadata": {},
   "source": [
    "### 문제5)\n",
    "```python\n",
    "import streamlit as st\n",
    "\n",
    "page = st.sidebar.selectbox('Navigation', ['Home', 'Profile', 'Settings'])\n",
    "if page == 'Home':\n",
    "    st.title('Welcome to the Home Page')\n",
    "elif page == 'Profile':\n",
    "    st.title('Your Profile')\n",
    "elif page == 'Settings':\n",
    "    st.title('Settings')\n",
    "\n",
    "```"
   ]
  },
  {
   "cell_type": "markdown",
   "id": "2765c949-f105-4c27-ba89-844e943d2072",
   "metadata": {},
   "source": [
    "# 데이터 시각화 컴포넌트\n",
    " - streamlit을 사용한 데이터 시각화 및 웹 애플리케이션 통합 방법\n",
    " - [Reference: Streamlit Chat Elements](https://docs.streamlit.io/develop/api-reference/charts)"
   ]
  },
  {
   "cell_type": "markdown",
   "id": "1b6b6f3c-dac1-4d55-9e5d-5a219820bb68",
   "metadata": {},
   "source": [
    "## Stremalit을 이용한 기본 차트 그리기\n",
    " - Stremait에서 제공하는 내장 차트 기능을 사용하여 데이터 시각화"
   ]
  },
  {
   "cell_type": "code",
   "execution_count": 23,
   "id": "cf1bc517-d1c4-4651-9492-90a1bcf26954",
   "metadata": {},
   "outputs": [
    {
     "name": "stdout",
     "output_type": "stream",
     "text": [
      "Overwriting app.py\n"
     ]
    }
   ],
   "source": [
    "%%writefile app.py\n",
    "\n",
    "# line chart1\n",
    "\n",
    "import streamlit as st\n",
    "import pandas as pd\n",
    "import numpy as np\n",
    "\n",
    "chart_data = pd.DataFrame(np.random.randn(20, 3), columns=[\"a\", \"b\", \"c\"])\n",
    "\n",
    "st.line_chart(chart_data)"
   ]
  },
  {
   "cell_type": "code",
   "execution_count": 22,
   "id": "b96af805-60a2-4634-bc0d-4bc5b8a644bd",
   "metadata": {},
   "outputs": [
    {
     "name": "stdout",
     "output_type": "stream",
     "text": [
      "Overwriting app.py\n"
     ]
    }
   ],
   "source": [
    "%%writefile app.py\n",
    "\n",
    "# line chart2\n",
    "\n",
    "import streamlit as st\n",
    "import pandas as pd\n",
    "import numpy as np\n",
    "\n",
    "chart_data = pd.DataFrame(np.random.randn(20, 3), columns=[\"col1\", \"col2\", \"col3\"])\n",
    "\n",
    "st.line_chart(\n",
    "   chart_data, x=\"col1\", y=[\"col2\", \"col3\"], color=[\"#FF0000\", \"#0000FF\"]  # Optional\n",
    ")"
   ]
  },
  {
   "cell_type": "code",
   "execution_count": 28,
   "id": "040315ec-a8ab-4d44-9a06-83ff86b59173",
   "metadata": {},
   "outputs": [
    {
     "name": "stdout",
     "output_type": "stream",
     "text": [
      "Overwriting app.py\n"
     ]
    }
   ],
   "source": [
    "%%writefile app.py\n",
    "\n",
    "# scatter chart\n",
    "\n",
    "import streamlit as st\n",
    "import pandas as pd\n",
    "import numpy as np\n",
    "\n",
    "chart_data = pd.DataFrame(np.random.randn(20, 3), columns=[\"col1\", \"col2\", \"col3\"])\n",
    "chart_data['col4'] = np.random.choice(['A','B','C'], 20)\n",
    "\n",
    "st.scatter_chart(\n",
    "    chart_data,\n",
    "    x='col1',\n",
    "    y='col2',\n",
    "    color='col4',\n",
    "    size='col3',\n",
    ")"
   ]
  },
  {
   "cell_type": "code",
   "execution_count": 29,
   "id": "28d92294-26aa-472e-b49a-144d5e9f12da",
   "metadata": {},
   "outputs": [
    {
     "name": "stdout",
     "output_type": "stream",
     "text": [
      "Overwriting app.py\n"
     ]
    }
   ],
   "source": [
    "%%writefile app.py\n",
    "\n",
    "# bar chart\n",
    "\n",
    "import streamlit as st\n",
    "import pandas as pd\n",
    "import numpy as np\n",
    "\n",
    "chart_data = pd.DataFrame(\n",
    "   {\"col1\": list(range(20)), \"col2\": np.random.randn(20), \"col3\": np.random.randn(20)}\n",
    ")\n",
    "\n",
    "st.bar_chart(\n",
    "   chart_data, x=\"col1\", y=[\"col2\", \"col3\"], color=[\"#FF0000\", \"#0000FF\"]  # Optional\n",
    ")"
   ]
  },
  {
   "cell_type": "markdown",
   "id": "329e375c-442d-4c17-aa39-4f5f89757e45",
   "metadata": {},
   "source": [
    "## Seaborn을 이용한 고급 차트 그리기\n",
    " - st.pyplot() 이용"
   ]
  },
  {
   "cell_type": "code",
   "execution_count": 51,
   "id": "eb5127ea-c2e6-4e63-a4e6-3e9fed2566d4",
   "metadata": {},
   "outputs": [
    {
     "name": "stdout",
     "output_type": "stream",
     "text": [
      "Overwriting app.py\n"
     ]
    }
   ],
   "source": [
    "%%writefile app.py\n",
    "\n",
    "# Seaborn 활용 차트 그리기\n",
    "\n",
    "# %matplotlib inline\n",
    "\n",
    "import matplotlib.pyplot as plt\n",
    "import seaborn as sns\n",
    "import plotly.express as px\n",
    "import streamlit as st\n",
    "\n",
    "df = px.data.gapminder()\n",
    "\n",
    "plt.figure(figsize=(10, 6))\n",
    "sns.histplot(df, x='lifeExp', bins=10, kde=True)\n",
    "plt.title('Histogram of Life Expectation')\n",
    "plt.xlabel('Life Expectation')\n",
    "plt.ylabel('Frequency')\n",
    "# plt.show()\n",
    "\n",
    "st.pyplot(plt)"
   ]
  },
  {
   "cell_type": "markdown",
   "id": "1a83f47f-26e9-4c26-bee6-c5444d0c3ae9",
   "metadata": {},
   "source": [
    "## Plotly를 이용한 고급 차트 그리기\n",
    " - st.plotly_chart() 이용"
   ]
  },
  {
   "cell_type": "code",
   "execution_count": 52,
   "id": "61172dfe-7052-4531-80e1-304d9a5e24f1",
   "metadata": {},
   "outputs": [
    {
     "name": "stdout",
     "output_type": "stream",
     "text": [
      "Overwriting app.py\n"
     ]
    }
   ],
   "source": [
    "%%writefile app.py\n",
    "\n",
    "import plotly.express as px\n",
    "import streamlit as st\n",
    "\n",
    "df = px.data.gapminder()\n",
    "\n",
    "fig = px.scatter(\n",
    "    df.query(\"year==2007\"),\n",
    "    x=\"gdpPercap\",\n",
    "    y=\"lifeExp\",\n",
    "    size=\"pop\",\n",
    "    color=\"continent\",\n",
    "    hover_name=\"country\",\n",
    "    log_x=True,\n",
    "    size_max=60,\n",
    ")\n",
    "\n",
    "tab1, tab2 = st.tabs([\"Streamlit theme (default)\", \"Plotly native theme\"])\n",
    "with tab1:\n",
    "    # Use the Streamlit theme.\n",
    "    # This is the default. So you can also omit the theme argument.\n",
    "    st.plotly_chart(fig, theme=\"streamlit\", use_container_width=True)\n",
    "with tab2:\n",
    "    # Use the native Plotly theme.\n",
    "    st.plotly_chart(fig, theme=None, use_container_width=True)"
   ]
  },
  {
   "cell_type": "markdown",
   "id": "75a4c5f3-3994-4ab0-90ff-d71991f8b310",
   "metadata": {},
   "source": [
    "## 사용자의 차트 선택에 따른 유형 변경"
   ]
  },
  {
   "cell_type": "code",
   "execution_count": 61,
   "id": "7f99c81e-837c-4ec5-9466-322e4cc33359",
   "metadata": {},
   "outputs": [
    {
     "name": "stdout",
     "output_type": "stream",
     "text": [
      "Overwriting app.py\n"
     ]
    }
   ],
   "source": [
    "%%writefile app.py\n",
    "\n",
    "import plotly.express as px\n",
    "import matplotlib.pyplot as plt\n",
    "import seaborn as sns\n",
    "import streamlit as st\n",
    "\n",
    "df = px.data.gapminder()\n",
    "\n",
    "x = 'continent'\n",
    "y = 'lifeExp'\n",
    "\n",
    "plt.figure(figsize=(10, 8))\n",
    "\n",
    "chart_type = st.selectbox('차트 유형을 선택하세요', ['Violine Plot', 'Box Plot', 'Bar Chart'])\n",
    "\n",
    "if chart_type == 'Violine Plot':\n",
    "    sns.violinplot(df, x=x, y=y)\n",
    "    st.pyplot(plt)\n",
    "elif chart_type == 'Box Plot':\n",
    "    sns.boxplot(df, x=x, y=y)\n",
    "    st.pyplot(plt)\n",
    "else:\n",
    "    st.bar_chart(df.groupby(x)[y].agg('sum'))\n",
    "    "
   ]
  },
  {
   "cell_type": "markdown",
   "id": "c9184fb1-a3b3-4352-af99-9cdaf2a18235",
   "metadata": {},
   "source": [
    "## 연습문제\n",
    " > 아래 연습문제는 plotly.data.experiment() 데이터를 이용합니다.\n",
    " - 문제1) \b'group' 컬럼을 기준으로 그룹화한 후 'experiment_3'의 평균값을 막대 차트로 그려 streamlit에 시각화 하세요.\n",
    " - 문제2) 'gender' 컬럼을 기준으로 'experiment_2'의 데이터를 boxplot으로 그려 streamlit에 시각화 하세요.\n",
    " - 문제3) 'gender' 컬럼을 기준으로 'experiment_1'의 데이터를 violine plot을 그려 streamlit에 시각화 하세요.\n",
    " - 문제4) streamlit의 selectbox()를 이용하여, 위 세 개의 그래프를 선택하여 시각화하는 웹 앱을 구현하세요."
   ]
  },
  {
   "cell_type": "markdown",
   "id": "6d2e8ac8-0dac-4189-9639-fab8b267cda7",
   "metadata": {},
   "source": [
    "## 가이드 코드"
   ]
  },
  {
   "cell_type": "markdown",
   "id": "44979dc5-ebe2-4ccb-a2e2-1a9fc6a914b9",
   "metadata": {},
   "source": [
    "### 문제1) 'group' 컬럼을 기준으로 그룹화한 후 'experiment_3'의 평균값을 막대 차트로 그려 streamlit에 시각화 하세요."
   ]
  },
  {
   "cell_type": "code",
   "execution_count": 76,
   "id": "55255114-058f-4a7a-9665-17b8a050c97e",
   "metadata": {},
   "outputs": [
    {
     "name": "stdout",
     "output_type": "stream",
     "text": [
      "Overwriting app.py\n"
     ]
    }
   ],
   "source": [
    "%%writefile app.py\n",
    "\n",
    "import numpy as np\n",
    "import pandas as pd\n",
    "import matplotlib.pyplot as plt\n",
    "import seaborn as sns\n",
    "import plotly.express as px\n",
    "import streamlit as st\n",
    "\n",
    "df = px.data.experiment()\n",
    "# df\n",
    "\n",
    "bar_data = df.pivot_table(index='group', values='experiment_3', aggfunc='mean').reset_index()\n",
    "# bar_data\n",
    "\n",
    "st.bar_chart(bar_data, x='group', y='experiment_3', color='group')"
   ]
  },
  {
   "cell_type": "markdown",
   "id": "75e7e63e-98dc-4c6d-ad99-53eba7b80d60",
   "metadata": {},
   "source": [
    "### 문제2) 'gender' 컬럼을 기준으로 'experiment_2'의 데이터를 boxplot으로 그려 streamlit에 시각화 하세요."
   ]
  },
  {
   "cell_type": "code",
   "execution_count": 82,
   "id": "1078d0be-158e-4a25-a2b3-349fbbd15bc1",
   "metadata": {},
   "outputs": [
    {
     "name": "stdout",
     "output_type": "stream",
     "text": [
      "Overwriting app.py\n"
     ]
    }
   ],
   "source": [
    "%%writefile app.py\n",
    "\n",
    "import numpy as np\n",
    "import pandas as pd\n",
    "import matplotlib.pyplot as plt\n",
    "import seaborn as sns\n",
    "import plotly.express as px\n",
    "import streamlit as st\n",
    "\n",
    "df = px.data.experiment()\n",
    "# df\n",
    "\n",
    "plt.figure(figsize=(10, 8))\n",
    "plt.title('Box plot of experiment_2 by gender')\n",
    "sns.boxplot(df, x='gender', y='experiment_2')\n",
    "st.pyplot(plt)"
   ]
  },
  {
   "cell_type": "markdown",
   "id": "fa841246-775e-4b4b-94ae-6a7abe3ab79e",
   "metadata": {},
   "source": [
    "### 문제3) 'gender' 컬럼을 기준으로 'experiment_1'의 데이터를 violine plot을 그려 streamlit에 시각화 하세요."
   ]
  },
  {
   "cell_type": "code",
   "execution_count": 94,
   "id": "402f1935-70bc-469c-b9e1-dafeb1785000",
   "metadata": {},
   "outputs": [
    {
     "name": "stdout",
     "output_type": "stream",
     "text": [
      "Overwriting app.py\n"
     ]
    }
   ],
   "source": [
    "%%writefile app.py\n",
    "\n",
    "import numpy as np\n",
    "import pandas as pd\n",
    "import matplotlib.pyplot as plt\n",
    "import seaborn as sns\n",
    "import plotly.express as px\n",
    "import streamlit as st\n",
    "\n",
    "df = px.data.experiment()\n",
    "# df\n",
    "\n",
    "plt.figure(figsize=(10, 8))\n",
    "plt.title('Violine plot of experiment_1 by gender')\n",
    "sns.violinplot(df, x='gender', y='experiment_1')\n",
    "st.pyplot(plt)"
   ]
  },
  {
   "cell_type": "markdown",
   "id": "c83546b0-ba01-4720-b8b4-a7a1fc8f1fb5",
   "metadata": {},
   "source": [
    "### 문제4) streamlit의 selectbox()를 이용하여, 위 세 개의 그래프를 선택하여 시각화하는 웹 앱을 구현하세요."
   ]
  },
  {
   "cell_type": "code",
   "execution_count": 105,
   "id": "05214da8-f2a7-4fc3-afd2-e4650f6bbdc8",
   "metadata": {},
   "outputs": [
    {
     "name": "stdout",
     "output_type": "stream",
     "text": [
      "Overwriting app.py\n"
     ]
    }
   ],
   "source": [
    "%%writefile app.py\n",
    "\n",
    "import numpy as np\n",
    "import pandas as pd\n",
    "import matplotlib.pyplot as plt\n",
    "import seaborn as sns\n",
    "import plotly.express as px\n",
    "import streamlit as st\n",
    "\n",
    "df = px.data.experiment()\n",
    "\n",
    "def bar_chart(df):\n",
    "    bar_data = df.pivot_table(index='group', values='experiment_3', aggfunc='mean').reset_index()\n",
    "    st.bar_chart(bar_data, x='group', y='experiment_3', color='group')\n",
    "\n",
    "def box_chart(df):\n",
    "    plt.figure(figsize=(10, 8))\n",
    "    plt.title('Box plot of experiment_2 by gender')\n",
    "    sns.boxplot(df, x='gender', y='experiment_2')\n",
    "    st.pyplot(plt)\n",
    "\n",
    "def violine_chart(df):\n",
    "    plt.figure(figsize=(10, 8))\n",
    "    plt.title('Violine plot of experiment_1 by gender')\n",
    "    sns.violinplot(df, x='gender', y='experiment_1')\n",
    "    st.pyplot(plt)\n",
    "\n",
    "select_chart = st.selectbox(\"차트를 선택하세요\", ['BarChart', 'BoxChart', 'ViolineChart'])\n",
    "\n",
    "if select_chart == 'BarChart':\n",
    "    bar_chart(df)\n",
    "elif select_chart == 'BoxChart':\n",
    "    box_chart(df)\n",
    "else:\n",
    "    violine_chart(df)\n",
    "    "
   ]
  },
  {
   "cell_type": "markdown",
   "id": "0de90756-b31f-411b-ae68-1cc499536ff0",
   "metadata": {},
   "source": [
    "# Streamlit Cloud 앱 배포\n",
    " - 다중 페이지 구성\n",
    " - 앱 배포 및 온라인 접근\n",
    " - 앱 관리 및 업데이트"
   ]
  },
  {
   "cell_type": "markdown",
   "id": "b5acf09c-d51f-4471-b3d9-076fa0926004",
   "metadata": {},
   "source": [
    "## 다중 페이지 구성 방법"
   ]
  },
  {
   "cell_type": "code",
   "execution_count": 99,
   "id": "2c0ae6cf-aed1-4c58-a071-f0480874f090",
   "metadata": {},
   "outputs": [
    {
     "name": "stdout",
     "output_type": "stream",
     "text": [
      "Overwriting app.py\n"
     ]
    }
   ],
   "source": [
    "%%writefile app.py\n",
    "\n",
    "import streamlit as st\n",
    "\n",
    "# 페이지 선택\n",
    "# page = st.sidebar.selectbox('Select your page', ['Home', 'Data Visualization', 'About'])\n",
    "page = st.sidebar.radio('Select your page', ['Home', 'Data Visualization', 'About'])\n",
    "\n",
    "if page == 'Home':\n",
    "    st.title('Home Page')\n",
    "    st.write('Welcome to the Home Page!')\n",
    "elif page == 'Data Visualization':\n",
    "    st.title('Data Visualization')\n",
    "    st.write('Here you can see interactive charts and data insights.')\n",
    "elif page == 'About':\n",
    "    st.title('About')\n",
    "    st.write('This is an app built with Streamlit to demonstrate multi-page functionality.')\n"
   ]
  },
  {
   "cell_type": "markdown",
   "id": "87df5669-253a-43bb-920f-afba9a37d7df",
   "metadata": {},
   "source": [
    "## 로컬 환경 앱 실행 및 디버깅\n",
    " - 터미널에서 아래 명령어 실행\n",
    " - ```bash\n",
    "    streamlit run app.py\n",
    "    ```"
   ]
  },
  {
   "cell_type": "markdown",
   "id": "3cd42d56-13a1-4896-8ea0-b9c80bd84299",
   "metadata": {},
   "source": [
    "## Streamlit Cloud를 통한 앱 배포\n",
    " - [Reference: Streamlit Deploy Quickstart](https://docs.streamlit.io/deploy/streamlit-community-cloud/get-started/quickstart)\n",
    " - Streamlit Cloud 플랫폼을 사용하여 앱 배포 및 공개 접근하기\n",
    " - 앱 배포 과정\n",
    "     - Github 가입하기\n",
    "     - 앱 배포를 위한 Github New Repository 만들기\n",
    "     - Github Repository에 앱 코드 저장\n",
    "     - Streamlit Cloud에 공유 계정 생성\n",
    "     - Streamlit Cloud에 Github Repository 연결하기 \n",
    "     - 웹 앱 업데이트"
   ]
  },
  {
   "cell_type": "markdown",
   "id": "bef9f0b0-84d6-4ea7-9291-d8ff6fdb9a11",
   "metadata": {},
   "source": [
    "### Github 가입하기\n",
    " - [Github 웹사이트](https://github.com/)에서 회원 가입하기\n",
    " - Personal access tokens 발급 받기\n",
    "     - 아래 SSH 키 생성을 먼저해보고 시도해 보자\n",
    "     - Github 홈페이지 우측 상단 이미지 클릭 > Settings > 좌측 최하단 Developer settings > 좌측 Personal access tokens > Tokens(classic) > Generate new token\n",
    "     - 모든 권한 설정\n",
    "     - 한번만 확인 가능하기에 잘 저장하기 바람.  "
   ]
  },
  {
   "cell_type": "markdown",
   "id": "8f698c62-7071-40ec-ab58-af0a7e1c9eb3",
   "metadata": {},
   "source": [
    "### 앱 배포를 위한 Github New Repository 만들기\n",
    " - [New Repository 만들기](https://github.com/new)\n",
    " - public으로 설정\n",
    " - 웹앱 이름으로 레파지토리 이름으로 설정하기(ex. streamlit_first_deploy)"
   ]
  },
  {
   "cell_type": "markdown",
   "id": "6a5d0a81-b984-4c10-a26c-f88ef1bc0bcb",
   "metadata": {},
   "source": [
    "### Github Repository에 앱 코드 저장\n",
    " - local에 git 설치하기\n",
    "     - \b\b[Git 다운로드 사이트](https://git-scm.com/book/ko/v2/%EC%8B%9C%EC%9E%91%ED%95%98%EA%B8%B0-Git-%EC%84%A4%EC%B9%98)\n",
    "     - 운영체제에 맞게 다운로드 후 설치\n",
    " - Git 사용자 이름과 이메일 등록하기\n",
    "     - git config --global user.name \"Your Name\"\n",
    "     - git config --global user.email \"your_email@example.com\"\n",
    " - 설정 확인\n",
    "     - git config --list\n",
    " - 새 SSH 키 생성 및 GitHub에 등록(선택)\n",
    "     - 보다 안전한 인증을 위해 SSH 키 생성 후 GitHub 계정에 등록할 수 있음.\n",
    "     - SSH 키를 사용하면 로그인할 때마다 계정의 비밀번호를 입력하지 않아도 됨.\n",
    "     - 아마도 Personal access tokens 대신해서 사용할 수 있지 않을까 생각됨.\n",
    "     - SSH 키 생성:\n",
    "         - 질문이 나오면 그냥 엔터 입력.  \n",
    "         - ```bash\n",
    "           ssh-keygen -t ed25519 -C \"your_email@example.com\"\n",
    "           ```\n",
    "     - SSH 키를 ssh-agent에 추가:\n",
    "         - 다음 명령어를 한줄씩 입력.\n",
    "         - ```bash\n",
    "           eval \"$(ssh-agent -s)\"\n",
    "            ```\n",
    "         - ```bash\n",
    "           ssh-add ~/.ssh/id_ed25519\n",
    "           ```\n",
    "     - SSH 공개키를 GitHub에 등록:\n",
    "         - ~/.ssh/id_ed25519.pub 파일의 내용을 복사\n",
    "         - GitHub에서 Profile > Settings > SSH and GPG keys로 이동\n",
    "         - \"New SSH key\" 버튼을 클릭하고, 복사한 키 붙여넣기\n",
    " - Repositoy에 웹 앱 코드(app.py) 업로드\n",
    "     - 웹 앱 코드가 있는 작업 디렉토리로 이동\n",
    "     - git 초기화\n",
    "         - 해당 디렉토리에 git 설정 파일을 심고 초기화한 후, Git 저장소로 만듦.\n",
    "         - 이후 진행할 원격 Repository 등록 전에 수행해야 함.\n",
    "         - ```bash\n",
    "           git init\n",
    "           ```\n",
    "     - git에 원격 Repository 등록\n",
    "         - 작업 디렉토리와 GitHub Repository와 연결시킴.\n",
    "         - 먼저 Repository URL을 복사해야 함.\n",
    "         - ```bash\n",
    "           git git remote add origin https://github.com/username/repository.git\n",
    "           ```            \n",
    "     - app.py 파일 git 추적 등록\n",
    "         - ```bash\n",
    "           git add app.py\n",
    "           ```\n",
    "     - 현재 git 상태 확인\n",
    "         - ```bash\n",
    "           git status\n",
    "           ```\n",
    "     - app.py 파일 commit\n",
    "         - ```bash\n",
    "           git commit -m \"add app.py\"\n",
    "           ```\n",
    "     - app.py 파일 Repository에 업로드\n",
    "         - ```bash\n",
    "           git push -u origin master \n",
    "           ```"
   ]
  },
  {
   "cell_type": "markdown",
   "id": "a2bc3799-172c-43ad-892d-1129eeaa2ad4",
   "metadata": {},
   "source": [
    "### Streamlit Cloud에 공유 계정 생성\n",
    " - [Streamlit Cloud 사이트](https://streamlit.io/cloud)에서 회원 가입"
   ]
  },
  {
   "cell_type": "markdown",
   "id": "df6e3fab-b4dd-419d-ae07-687329ef91bb",
   "metadata": {},
   "source": [
    "### Streamlit Cloud에 Github Repository 연결 후 웹 앱 등록\n",
    " - 로그인 후 우측 상단 Create APP 클릭 >\n",
    " - Repository: GitHub Repository URL 붙여넣기\n",
    " - Main file path: app.py\n",
    " - Deploy! 클릭"
   ]
  },
  {
   "cell_type": "markdown",
   "id": "a79331f5-fd6d-43de-a5a5-475666eb67d2",
   "metadata": {},
   "source": [
    "### 웹 앱 업데이트\n",
    " - 작업 디렉토리의 상태를 Repositoy의 최신 상태와 동기화\n",
    "     - ```bash\n",
    "       git pull origin master\n",
    "       ```\n",
    " - app.py 파일 수정 후 추적 등록 및 commit\n",
    "     - ```bash\n",
    "       git commit -am \"update app.py\"\n",
    "       ```\n",
    " - 만약 새로운 파일을 업로드 하려면 명시적으로 추적 등록이 필요하고, commit을 수행함.\n",
    "     - 기존의 추적 중인 app.py와 다르게 add와 commit 명령어를 동시에 사용할 수 없음.\n",
    "     - 반드시 add를 먼저 실행하여 추적 등록을 해야함. \n",
    "     - ```bash\n",
    "       git add requirements.txt\n",
    "       git commit -m \"add requirements.txt\"\n",
    "       ```\n",
    " - 수정된 내용 Repository에 재업로드\n",
    "     - ```bash\n",
    "       git push -u origin master\n",
    "       ``` "
   ]
  },
  {
   "cell_type": "markdown",
   "id": "9846abe2-7567-4f93-bf88-dcd4483d5582",
   "metadata": {},
   "source": [
    "## 연습문제\n",
    " - GitHub에 가입 후, 웹 앱을 위한 Repository 만들기\n",
    " - 원격 Repository에 웹 앱 파일 업로드 하기\n",
    " - Streamlit Cloud에 웹 앱을 만들고 GitHub Repository와 연결하여 배포하기\n",
    " - 웹 앱 수정 후 적용하기"
   ]
  },
  {
   "cell_type": "markdown",
   "id": "ec3b7ac4-f438-49b1-ab25-d8d874d4e670",
   "metadata": {},
   "source": [
    "## (번외) requirements.txt 파일 만들기\n",
    " - 웹 앱을 배포하다보면 코드에 사용한 라이브러리의 설치가 필요한 경우가 있음.\n",
    " - 어떤 라이브러리를 설치해야 웹 앱이 제대로 실행되는지를 알려줘야 하는데 설치 라이브러리 목록 파일이 requirements.txt임.\n",
    " - 이 파일은 다음 명령어로 쉽게 만들 수 있지만, 이 파일 안에는 실제 웹 앱 실행과 관계없는 모든 라이브러리의 목록이 들어가 있음.\n",
    "     -  ```bash\n",
    "        pip list --format=freeze > requirements_all.txt\n",
    "        ```\n",
    " - 다음 파이썬 명령어로 리스트에 웹 앱 실행에 반드시 필요한 라이브러리를 작성하여 requirements.txt 파일을 새로 만듦.\n",
    "     - ```python\n",
    "        libraries_to_keep = ['numpy', 'pandas', 'streamlit', 'matplotlib',\n",
    "         'seaborn', 'plotly']\n",
    "\n",
    "        input_filename = 'requirements_all.txt'\n",
    "        \n",
    "        output_filename = 'requirements.txt'\n",
    "        \n",
    "        \n",
    "        filtered_libraries = []\n",
    "        \n",
    "        \n",
    "        with open(input_filename, 'r') as file:\n",
    "         lines = file.readlines()\n",
    "        \n",
    "        \n",
    "        for line in lines:\n",
    "         for lib in libraries_to_keep:\n",
    "             if line.startswith(lib):\n",
    "                 filtered_libraries.append(line)\n",
    "                 break\n",
    "        \n",
    "        \n",
    "        with open(output_filename, 'w') as file:\n",
    "         file.writelines(filtered_libraries)\n",
    "        \n",
    "        print(f\"Filtered requirements saved to {output_filename}\")\n",
    "       ```"
   ]
  },
  {
   "cell_type": "code",
   "execution_count": null,
   "id": "be2a180b-3841-4452-ae92-783884fa9900",
   "metadata": {},
   "outputs": [],
   "source": []
  }
 ],
 "metadata": {
  "kernelspec": {
   "display_name": "nlp3810",
   "language": "python",
   "name": "nlp3810"
  },
  "language_info": {
   "codemirror_mode": {
    "name": "ipython",
    "version": 3
   },
   "file_extension": ".py",
   "mimetype": "text/x-python",
   "name": "python",
   "nbconvert_exporter": "python",
   "pygments_lexer": "ipython3",
   "version": "3.8.10"
  }
 },
 "nbformat": 4,
 "nbformat_minor": 5
}
