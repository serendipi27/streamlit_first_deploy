import streamlit


!pip install streamlit


!streamlit --version


%reload_ext autoreload
%autoreload 2


%%writefile app.py

import streamlit as st

st.title('Hello, Streamlit!!')
st.write('This is my first streamlit app. Congratulations!!')
st.write('Easy!!')
st.button('Click me!!')


!streamlit run app.py



