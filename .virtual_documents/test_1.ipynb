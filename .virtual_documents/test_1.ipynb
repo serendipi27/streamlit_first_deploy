import streamlit


!pip install --upgrade pip


!pip install streamlit


!streamlit --version


%reload_ext autoreload
%autoreload 2


%%writefile app.py

import streamlit as st

st.title('Hello, Streamlit!!')
st.write('This is my first streamlit app. Congratulations!!')
st.write('Easy!!')
st.button('Click me!!')


!streamlit run app.py



