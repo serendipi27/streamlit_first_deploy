











%reload_ext autoreload
%autoreload 2


%%writefile app.py

import streamlit as st

st.title('Hello, Streamlit!!')
st.write('This is my first streamlit app. Congratulations!!')
st.button('Click me!!')


# 터미널에서 아래 명령어 실행하기
# streamlit run app.py





%%writefile app.py

import streamlit as st
st.title("Welcome to Streamlit!")
st.header("Exploring the basics")
st.write("The most important libraries at Python")
st.write('- Numpy')
st.write('- Pandas')
st.write('- Matplotlib')





%%writefile app.py

import streamlit as st

year = st.slider('연도를 선택하세요', 2000, 2020)
hobby = st.selectbox('다음 중 취미를 선택하세요', ('읽기', '여행', '요리'))
st.write(f'당신은 연도는 {year}와 취미는 {hobby}를 선택하셨습니다.')





%%writefile app.py

import streamlit as st

btn = st.button('Show Message')
if btn:
    st.write("Welcome to our Streamlit app!!")








%%writefile app.py

import streamlit as st

# 기본 출력
st.write('This is a basic write command.')
st.markdown('## This is a markdown')
st.latex(r''' e^{i\pi} + 1 = 0 ''')

# 데이터 표시
st.write({'Name': 'Alice', 'Age': 25})





%%writefile app.py

import streamlit as st

# 입력 위젯
age = st.slider('Choose your age', 18, 65)
job = st.selectbox('Job role', ['Developer', 'Manager', 'Student'])
agree = st.checkbox('I agree')

# 조건부 출력
if agree:
    st.write(f'You are {age} years old and work as a {job}.')






%%writefile app.py

import streamlit as st

hobby = st.radio('Select your hobby:', ['Reading', 'Gaming', 'Hiking'])

if hobby == 'Reading':
    st.write('You selected reading.')
elif hobby == 'Gaming':
    st.write('You selected gaming.')
else:
    st.write('You selected hiking.')






%%writefile app.py

import streamlit as st

# 사이드바
with st.sidebar:
    st.write('This is a sidebar')
    navigation = st.radio('Go to', ['Home', 'Settings', 'About'])
    if navigation == 'Settings':
        st.write('Settings page')
    elif navigation == 'Home':
        st.write('Home page')
    else:
        st.write('About page')



























%%writefile app.py

# line chart1

import streamlit as st
import pandas as pd
import numpy as np

chart_data = pd.DataFrame(np.random.randn(20, 3), columns=["a", "b", "c"])

st.line_chart(chart_data)


%%writefile app.py

# line chart2

import streamlit as st
import pandas as pd
import numpy as np

chart_data = pd.DataFrame(np.random.randn(20, 3), columns=["col1", "col2", "col3"])

st.line_chart(
   chart_data, x="col1", y=["col2", "col3"], color=["#FF0000", "#0000FF"]  # Optional
)


%%writefile app.py

# scatter chart

import streamlit as st
import pandas as pd
import numpy as np

chart_data = pd.DataFrame(np.random.randn(20, 3), columns=["col1", "col2", "col3"])
chart_data['col4'] = np.random.choice(['A','B','C'], 20)

st.scatter_chart(
    chart_data,
    x='col1',
    y='col2',
    color='col4',
    size='col3',
)


%%writefile app.py

# bar chart

import streamlit as st
import pandas as pd
import numpy as np

chart_data = pd.DataFrame(
   {"col1": list(range(20)), "col2": np.random.randn(20), "col3": np.random.randn(20)}
)

st.bar_chart(
   chart_data, x="col1", y=["col2", "col3"], color=["#FF0000", "#0000FF"]  # Optional
)





%%writefile app.py

# Seaborn 활용 차트 그리기

# %matplotlib inline

import matplotlib.pyplot as plt
import seaborn as sns
import plotly.express as px
import streamlit as st

df = px.data.gapminder()

plt.figure(figsize=(10, 6))
sns.histplot(df, x='lifeExp', bins=10, kde=True)
plt.title('Histogram of Life Expectation')
plt.xlabel('Life Expectation')
plt.ylabel('Frequency')
# plt.show()

st.pyplot(plt)





%%writefile app.py

import plotly.express as px
import streamlit as st

df = px.data.gapminder()

fig = px.scatter(
    df.query("year==2007"),
    x="gdpPercap",
    y="lifeExp",
    size="pop",
    color="continent",
    hover_name="country",
    log_x=True,
    size_max=60,
)

tab1, tab2 = st.tabs(["Streamlit theme (default)", "Plotly native theme"])
with tab1:
    # Use the Streamlit theme.
    # This is the default. So you can also omit the theme argument.
    st.plotly_chart(fig, theme="streamlit", use_container_width=True)
with tab2:
    # Use the native Plotly theme.
    st.plotly_chart(fig, theme=None, use_container_width=True)





%%writefile app.py

import plotly.express as px
import matplotlib.pyplot as plt
import seaborn as sns
import streamlit as st

df = px.data.gapminder()

x = 'continent'
y = 'lifeExp'

plt.figure(figsize=(10, 8))

chart_type = st.selectbox('차트 유형을 선택하세요', ['Violine Plot', 'Box Plot', 'Bar Chart'])

if chart_type == 'Violine Plot':
    sns.violinplot(df, x=x, y=y)
    st.pyplot(plt)
elif chart_type == 'Box Plot':
    sns.boxplot(df, x=x, y=y)
    st.pyplot(plt)
else:
    st.bar_chart(df.groupby(x)[y].agg('sum'))
    











%%writefile app.py

import numpy as np
import pandas as pd
import matplotlib.pyplot as plt
import seaborn as sns
import plotly.express as px
import streamlit as st

df = px.data.experiment()
# df

bar_data = df.pivot_table(index='group', values='experiment_3', aggfunc='mean').reset_index()
# bar_data

st.bar_chart(bar_data, x='group', y='experiment_3', color='group')





%%writefile app.py

import numpy as np
import pandas as pd
import matplotlib.pyplot as plt
import seaborn as sns
import plotly.express as px
import streamlit as st

df = px.data.experiment()
# df

plt.figure(figsize=(10, 8))
plt.title('Box plot of experiment_2 by gender')
sns.boxplot(df, x='gender', y='experiment_2')
st.pyplot(plt)





%%writefile app.py

import numpy as np
import pandas as pd
import matplotlib.pyplot as plt
import seaborn as sns
import plotly.express as px
import streamlit as st

df = px.data.experiment()
# df

plt.figure(figsize=(10, 8))
plt.title('Violine plot of experiment_1 by gender')
sns.violinplot(df, x='gender', y='experiment_1')
st.pyplot(plt)





%%writefile app.py

import numpy as np
import pandas as pd
import matplotlib.pyplot as plt
import seaborn as sns
import plotly.express as px
import streamlit as st

df = px.data.experiment()

def bar_chart(df):
    bar_data = df.pivot_table(index='group', values='experiment_3', aggfunc='mean').reset_index()
    st.bar_chart(bar_data, x='group', y='experiment_3', color='group')

def box_chart(df):
    plt.figure(figsize=(10, 8))
    plt.title('Box plot of experiment_2 by gender')
    sns.boxplot(df, x='gender', y='experiment_2')
    st.pyplot(plt)

def violine_chart(df):
    plt.figure(figsize=(10, 8))
    plt.title('Violine plot of experiment_1 by gender')
    sns.violinplot(df, x='gender', y='experiment_1')
    st.pyplot(plt)

select_chart = st.selectbox("차트를 선택하세요", ['BarChart', 'BoxChart', 'ViolineChart'])

if select_chart == 'BarChart':
    bar_chart(df)
elif select_chart == 'BoxChart':
    box_chart(df)
else:
    violine_chart(df)
    








%%writefile app.py

import streamlit as st

# 페이지 선택
# page = st.sidebar.selectbox('Select your page', ['Home', 'Data Visualization', 'About'])
page = st.sidebar.radio('Select your page', ['Home', 'Data Visualization', 'About'])

if page == 'Home':
    st.title('Home Page')
    st.write('Welcome to the Home Page!')
elif page == 'Data Visualization':
    st.title('Data Visualization')
    st.write('Here you can see interactive charts and data insights.')
elif page == 'About':
    st.title('About')
    st.write('This is an app built with Streamlit to demonstrate multi-page functionality.')


































